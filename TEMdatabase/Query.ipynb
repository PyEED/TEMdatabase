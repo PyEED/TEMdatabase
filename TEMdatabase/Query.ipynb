{
 "cells": [
  {
   "cell_type": "markdown",
   "id": "ac70b5f0",
   "metadata": {},
   "source": [
    "# This script is for the data extraction from the database and querying"
   ]
  },
  {
   "cell_type": "code",
   "execution_count": 2,
   "id": "782f41a9",
   "metadata": {},
   "outputs": [
    {
     "name": "stderr",
     "output_type": "stream",
     "text": [
      "/home/maxim/.local/lib/python3.8/site-packages/pandas/core/computation/expressions.py:20: UserWarning: Pandas requires version '2.7.3' or newer of 'numexpr' (version '2.7.1' currently installed).\n",
      "  from pandas.core.computation.check import NUMEXPR_INSTALLED\n"
     ]
    },
    {
     "name": "stdout",
     "output_type": "stream",
     "text": [
      "  protein_sequence_id                                amino_acid_sequence\n",
      "0        WP_029398023  HPETLVKVKDAEDQLGARVGYIELDLNSGKILESFRPEERFPMMST...\n",
      "1          HAG1683236  HPETLVKVKDAEDQLGARVGYIELDLNSGKILESFRPEERFPMMST...\n",
      "2          EGZ9173011  HPETLVKVKDAEDQLGARVGYIELDLNSGKILESFRPEERFPMMST...\n",
      "3          HAV7135816  HPETLVKVKDAEDQLGARVGYIELDLNSGKILESFRPEERFPMMST...\n",
      "4        WP_171264638  HPETLVKVKDAEDQLGARVGYIELDLNSGKILESFRPEERFPMMST...\n",
      "5        WP_229297505  HPETLVKVKDAEDQLGARVGYIELDLNSGKILESFRPEERFPMMST...\n",
      "6        WP_052954108  HPETLVKVKDAEDQLGARVGYIELDLNSGKILESFRPEERFPMMST...\n",
      "7          EBK6113922  HPETLVKVKDAEDQLGARVGYIELDLNSGKILESFRPEERFPMMST...\n",
      "8            AHN62079  HPETLVKVKDAEDQLGARVGYIELDLNSGKILESFRPEERFPMMST...\n",
      "9        WP_139595262  HPETLVKVKDAEDQLGARVGYIELDLNSGKILESFRPEERFPMMST...\n"
     ]
    }
   ],
   "source": [
    "# Query the database and extract the data for further use\n",
    "# import the queryparser\n",
    "from modules.queryparser import query_database\n",
    "\n",
    "# Example usage:\n",
    "# Set the path to the database directory\n",
    "database = \"./Database/TEMdatamodelProtein.db\"\n",
    "\n",
    "# Query from which table(ProteinSequence) you want to select,\n",
    "# columns SELECT protein_sequence_id,amino_acid_sequence\n",
    "query = \"SELECT protein_sequence_id,amino_acid_sequence  FROM ProteinSequence\"\n",
    "the_dataframe_for_further_use = query_database(query, database)\n",
    "print(the_dataframe_for_further_use)"
   ]
  },
  {
   "cell_type": "code",
   "execution_count": 3,
   "id": "4dc22911",
   "metadata": {},
   "outputs": [
    {
     "name": "stdout",
     "output_type": "stream",
     "text": [
      "  protein_sequence_id                                amino_acid_sequence\n",
      "0        WP_029398023  HPETLVKVKDAEDQLGARVGYIELDLNSGKILESFRPEERFPMMST...\n"
     ]
    }
   ],
   "source": [
    "# Remove duplicates\n",
    "# I remove the duplicates based on the sequences, as we want to keep the unique ones \n",
    "# for analysis. \n",
    "\n",
    "# In this script i keep the first amino_acid_sequence and remove the other duplicates \n",
    "# which match it.\n",
    "the_dataframe_for_further_use.drop_duplicates(subset=['amino_acid_sequence'],\n",
    "                                              keep='first', inplace=True)\n",
    "# Print out the output \n",
    "print(the_dataframe_for_further_use)"
   ]
  }
 ],
 "metadata": {
  "kernelspec": {
   "display_name": "Python 3",
   "language": "python",
   "name": "python3"
  },
  "language_info": {
   "codemirror_mode": {
    "name": "ipython",
    "version": 3
   },
   "file_extension": ".py",
   "mimetype": "text/x-python",
   "name": "python",
   "nbconvert_exporter": "python",
   "pygments_lexer": "ipython3",
   "version": "3.8.10"
  }
 },
 "nbformat": 4,
 "nbformat_minor": 5
}
