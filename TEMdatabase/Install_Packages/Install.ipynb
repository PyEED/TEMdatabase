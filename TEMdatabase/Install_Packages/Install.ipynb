{
 "cells": [
  {
   "cell_type": "markdown",
   "id": "5ffd4687",
   "metadata": {},
   "source": [
    "Requiered packages to be installed"
   ]
  },
  {
   "cell_type": "code",
   "execution_count": null,
   "id": "30850d01",
   "metadata": {},
   "outputs": [],
   "source": [
    "!pip install biopython\n",
    "!pip install elementpath\n",
    "!pip install pandas\n",
    "!pip install db-sqlite3\n",
    "!pip3 install taxoniq\n",
    "!pip install nglview\n",
    "!pip install tabulate\n",
    "!pip install fuzzywuzzy\n",
    "!pip install pyhmmer\n",
    "!pip install bio\n",
    "!pip install unipressed\n",
    "!pip install uniprot\n",
    "!pip install requests\n",
    "!pip install subprocess\n",
    "!pip install dict2xml \n",
    "!pip install flatten-json\n",
    "!pip install matplotlib\n",
    "!pip uninstall networkx\n",
    "!pip install numpy\n",
    "!pip install hmmer"
   ]
  },
  {
   "cell_type": "markdown",
   "id": "cb865e81",
   "metadata": {},
   "source": [
    "install the sdRDM which is still highly experimental and buggy at this point (Date: 13/03/2023)"
   ]
  },
  {
   "cell_type": "code",
   "execution_count": null,
   "id": "8a04a85b",
   "metadata": {},
   "outputs": [],
   "source": [
    "import sys \n",
    "!{sys.executable} -m pip install git+https://github.com/JR-1991/software-driven-rdm.git"
   ]
  },
  {
   "cell_type": "code",
   "execution_count": null,
   "id": "69d4ae50",
   "metadata": {},
   "outputs": [],
   "source": []
  }
 ],
 "metadata": {
  "kernelspec": {
   "display_name": "Python 3",
   "language": "python",
   "name": "python3"
  },
  "language_info": {
   "codemirror_mode": {
    "name": "ipython",
    "version": 3
   },
   "file_extension": ".py",
   "mimetype": "text/x-python",
   "name": "python",
   "nbconvert_exporter": "python",
   "pygments_lexer": "ipython3",
   "version": "3.8.10"
  }
 },
 "nbformat": 4,
 "nbformat_minor": 5
}
