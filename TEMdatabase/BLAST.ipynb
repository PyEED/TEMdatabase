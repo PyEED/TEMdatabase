{
 "cells": [
  {
   "cell_type": "markdown",
   "id": "c64567ff",
   "metadata": {},
   "source": [
    "# This script runs a BLAST search and saves the data within an XML document"
   ]
  },
  {
   "cell_type": "code",
   "execution_count": 13,
   "id": "8512d7c1",
   "metadata": {},
   "outputs": [],
   "source": [
    "# query protein sequence input\n",
    "# In the example case the search is done on TEM-1 beta lactamase\n",
    "from Bio import SeqIO\n",
    "protein_seq = SeqIO.read(\"Documents/TEM-1.fasta\", \"fasta\")"
   ]
  },
  {
   "cell_type": "code",
   "execution_count": 14,
   "id": "6e0fb463",
   "metadata": {},
   "outputs": [
    {
     "data": {
      "text/plain": [
       "Seq('HPETLVKVKDAEDQLGARVGYIELDLNSGKILESFRPEERFPMMSTFKVLLCGA...KHW')"
      ]
     },
     "execution_count": 14,
     "metadata": {},
     "output_type": "execute_result"
    }
   ],
   "source": [
    "# double check the sequence\n",
    "protein_seq.seq"
   ]
  },
  {
   "cell_type": "code",
   "execution_count": 15,
   "id": "ab37a239",
   "metadata": {},
   "outputs": [],
   "source": [
    "# run an online blast search in the NCBI database, Homologous protein search on the\n",
    "# \"non-redundant protein database.\"\n",
    "# there are many more parameter options on the home page: \n",
    "# https://biopython.org/docs/1.75/api/Bio.Blast.NCBIWWW.html\n",
    "\n",
    "# In this example i do a search on an E-value of 0.0001 and return 10 best samples.\n",
    "from Bio.Blast import NCBIWWW\n",
    "result_handle = NCBIWWW.qblast(\"blastp\", \"nr\", protein_seq.seq,expect=0.0001,hitlist_size=10)"
   ]
  },
  {
   "cell_type": "code",
   "execution_count": 16,
   "id": "65e6eb10",
   "metadata": {},
   "outputs": [],
   "source": [
    "# save the ncbi search results as an xml document\n",
    "with open(\"Documents/TEM-database.xml\", \"w\") as save_to:\n",
    "    save_to.write(result_handle.read())\n",
    "    result_handle.close()"
   ]
  },
  {
   "cell_type": "code",
   "execution_count": null,
   "id": "3854f362",
   "metadata": {},
   "outputs": [],
   "source": []
  }
 ],
 "metadata": {
  "kernelspec": {
   "display_name": "Python 3",
   "language": "python",
   "name": "python3"
  },
  "language_info": {
   "codemirror_mode": {
    "name": "ipython",
    "version": 3
   },
   "file_extension": ".py",
   "mimetype": "text/x-python",
   "name": "python",
   "nbconvert_exporter": "python",
   "pygments_lexer": "ipython3",
   "version": "3.8.10"
  }
 },
 "nbformat": 4,
 "nbformat_minor": 5
}
