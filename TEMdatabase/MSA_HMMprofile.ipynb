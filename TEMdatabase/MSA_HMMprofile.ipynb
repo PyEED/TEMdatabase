{
 "cells": [
  {
   "cell_type": "code",
   "execution_count": 6,
   "id": "e99e9b93",
   "metadata": {},
   "outputs": [
    {
     "data": {
      "text/plain": [
       "1"
      ]
     },
     "execution_count": 6,
     "metadata": {},
     "output_type": "execute_result"
    }
   ],
   "source": [
    "import pyhmmer\n",
    "from Bio import AlignIO\n",
    "from Bio.Align.Applications import ClustalwCommandline\n",
    "from Bio import AlignIO, SeqIO\n",
    "\n",
    "# Run Clustalw to align the sequences in the FASTA file\n",
    "clustalw_cline = ClustalwCommandline(\"clustalw\", infile=\"./Documents/MSA/merged/merged.fasta\")\n",
    "stdout, stderr = clustalw_cline()\n",
    "\n",
    "# Read the alignment from the Clustalw output file\n",
    "alignment = AlignIO.read(\"./Documents/MSA/merged/merged.aln\", \"clustal\")\n",
    "\n",
    "# Save as stockholm file\n",
    "AlignIO.write(alignment, \"./Documents/HMM/Profile_HMM.sto\", \"stockholm\")"
   ]
  },
  {
   "cell_type": "code",
   "execution_count": 12,
   "id": "2c7191a5",
   "metadata": {},
   "outputs": [],
   "source": [
    "#create amino acid alphabet\n",
    "alphabet = pyhmmer.easel.Alphabet.amino()"
   ]
  },
  {
   "cell_type": "code",
   "execution_count": 15,
   "id": "ca34a952",
   "metadata": {},
   "outputs": [],
   "source": [
    "#read in the msa\n",
    "\n",
    "#important note, inside the created \"alignment.sto\" file you need on the second line \n",
    "#to add a name for the pyhmmer package to create an HMM e.g : #=GF ID TEM-1\n",
    "#1.# STOCKHOLM 1.0\n",
    "#2.#=GF ID TEM-1 (this is the line)\n",
    "#3.#=GF SQ 10\n",
    "with pyhmmer.easel.MSAFile(\"./Documents/HMM/Profile_HMM.sto\", digital=True, alphabet=alphabet) as msa_file:\n",
    "    msa = msa_file.read()\n"
   ]
  },
  {
   "cell_type": "code",
   "execution_count": 16,
   "id": "b1b2b6b7",
   "metadata": {},
   "outputs": [],
   "source": [
    "#this entire function build the HMM\n",
    "#important note, inside the created \"alignment.sto\" file you need on the second line \n",
    "#to add a name for the pyhmmer package to create an HMM e.g : #=GF ID TEM-1\n",
    "#1.# STOCKHOLM 1.0\n",
    "#2.#=GF ID TEM-1 (this is the line)\n",
    "#3.#=GF SQ 10\n",
    "builder = pyhmmer.plan7.Builder(alphabet)\n",
    "background = pyhmmer.plan7.Background(alphabet)\n",
    "hmm, _, _ = builder.build_msa(msa, background)"
   ]
  },
  {
   "cell_type": "code",
   "execution_count": 17,
   "id": "52c356a3",
   "metadata": {},
   "outputs": [],
   "source": [
    "#save the HMM file\n",
    "with open(\"./Documents/HMM/TEM-profile.hmm\", \"wb\") as output_file:\n",
    "    hmm.write(output_file)"
   ]
  }
 ],
 "metadata": {
  "kernelspec": {
   "display_name": "Python 3",
   "language": "python",
   "name": "python3"
  },
  "language_info": {
   "codemirror_mode": {
    "name": "ipython",
    "version": 3
   },
   "file_extension": ".py",
   "mimetype": "text/x-python",
   "name": "python",
   "nbconvert_exporter": "python",
   "pygments_lexer": "ipython3",
   "version": "3.8.10"
  }
 },
 "nbformat": 4,
 "nbformat_minor": 5
}
