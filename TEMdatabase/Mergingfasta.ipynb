{
 "cells": [
  {
   "cell_type": "code",
   "execution_count": 7,
   "id": "e0f4b5b8",
   "metadata": {},
   "outputs": [
    {
     "name": "stdout",
     "output_type": "stream",
     "text": [
      "<function merge_fasta_files at 0x7fe70118e0d0>\n"
     ]
    }
   ],
   "source": [
    "from modules.Fastamerge import merge_fasta_files\n",
    "\n",
    "input_dir = \"./Documents/MSA/seq_for_merge\"\n",
    "output_file = \"./Documents/MSA/merged/merged.fasta\"\n",
    "\n",
    "merge_fasta_files(input_dir, output_file)\n",
    "print(merge_fasta_files)"
   ]
  }
 ],
 "metadata": {
  "kernelspec": {
   "display_name": "Python 3",
   "language": "python",
   "name": "python3"
  },
  "language_info": {
   "codemirror_mode": {
    "name": "ipython",
    "version": 3
   },
   "file_extension": ".py",
   "mimetype": "text/x-python",
   "name": "python",
   "nbconvert_exporter": "python",
   "pygments_lexer": "ipython3",
   "version": "3.8.10"
  }
 },
 "nbformat": 4,
 "nbformat_minor": 5
}
