{
 "cells": [
  {
   "cell_type": "markdown",
   "id": "f76322c4",
   "metadata": {},
   "source": [
    "# This is a script for the creation of Beta Lactamase TEM Database"
   ]
  },
  {
   "cell_type": "code",
   "execution_count": 17,
   "id": "74e59094",
   "metadata": {},
   "outputs": [],
   "source": [
    "# import the sdRDM Modules\n",
    "import sdRDM\n",
    "from sdRDM import DataModel\n",
    "from sdRDM.database import build_sql_database"
   ]
  },
  {
   "cell_type": "code",
   "execution_count": 23,
   "id": "f77a6a1f",
   "metadata": {
    "scrolled": true
   },
   "outputs": [
    {
     "name": "stdout",
     "output_type": "stream",
     "text": [
      "ProteinSequence\n",
      "├── id\n",
      "├── protein_sequence_id\n",
      "├── name\n",
      "└── amino_acid_sequence\n"
     ]
    }
   ],
   "source": [
    "# there two ways of creating the data model, one localy and on the PyEED\n",
    "# GitHub online page(https://github.com/PyEED)\n",
    "\n",
    "# this is from my Homepage online\n",
    "# pyeed = DataModel.from_git(\"https://github.com/maxim945/PyEED-Fullprototype.git\")\n",
    "# this is an example of a local command: \"pyeed = DataModel.from_markdown('./model.md')\"\n",
    "pyeed = DataModel.from_markdown(\"Documents/DataModel/TEMdatamodelProtein.md\")\n",
    "#visualize for each separate table\n",
    "pyeed.ProteinSequence.visualize_tree()"
   ]
  },
  {
   "cell_type": "code",
   "execution_count": 24,
   "id": "884af90f",
   "metadata": {},
   "outputs": [],
   "source": [
    "#build the data base\n",
    "build_sql_database(pyeed.ProteinSequence, loc=\"./Database/TEMdatamodelProtein.db\")"
   ]
  },
  {
   "cell_type": "code",
   "execution_count": 25,
   "id": "8d616a59",
   "metadata": {
    "scrolled": true
   },
   "outputs": [],
   "source": [
    "from modules.xmlparser import XMLParser\n",
    "\n",
    "# Parse the XML document\n",
    "parser = XMLParser('Documents/TEM-database.xml')\n",
    "\n",
    "# Get the list of values from the XML file\n",
    "# Iterate through each item and insert the data one by one\n",
    "for i in range(len(parser.get('Hit_accession'))):\n",
    "    # Chose the ProteinSequence table.\n",
    "    dataset = pyeed.ProteinSequence(\n",
    "        # Open your XML document and extract what you need from it.\n",
    "        # For example:\n",
    "        # i want to extract from my XML document the accession number = Hit_accession\n",
    "        protein_sequence_id=parser.get('Hit_accession')[i],\n",
    "        name=parser.get('Hit_def')[i],\n",
    "        amino_acid_sequence=parser.get('Hsp_hseq')[i]\n",
    "    )\n",
    "    dataset.to_sql(loc=\"./Database/TEMdatamodelProtein.db\")"
   ]
  },
  {
   "cell_type": "markdown",
   "id": "3db0440c",
   "metadata": {},
   "source": [
    "You are finished! open your database and rejoice!"
   ]
  }
 ],
 "metadata": {
  "kernelspec": {
   "display_name": "Python 3",
   "language": "python",
   "name": "python3"
  },
  "language_info": {
   "codemirror_mode": {
    "name": "ipython",
    "version": 3
   },
   "file_extension": ".py",
   "mimetype": "text/x-python",
   "name": "python",
   "nbconvert_exporter": "python",
   "pygments_lexer": "ipython3",
   "version": "3.8.10"
  }
 },
 "nbformat": 4,
 "nbformat_minor": 5
}
