{
 "cells": [
  {
   "cell_type": "code",
   "execution_count": null,
   "id": "c809f543",
   "metadata": {},
   "outputs": [],
   "source": []
  },
  {
   "cell_type": "code",
   "execution_count": 1,
   "id": "7387946c",
   "metadata": {},
   "outputs": [],
   "source": [
    "#import packages\n",
    "import sdRDM\n",
    "from sdRDM import DataModel\n",
    "from sdRDM.database import build_sql_database"
   ]
  },
  {
   "cell_type": "code",
   "execution_count": 2,
   "id": "8801a35c",
   "metadata": {},
   "outputs": [
    {
     "name": "stdout",
     "output_type": "stream",
     "text": [
      "ProteinSequence\n",
      "├── id\n",
      "├── protein_sequence_id\n",
      "├── name\n",
      "├── amino_acid_sequence\n",
      "├── protein_database_name\n",
      "│   └── ProteinDatabase\n",
      "│       ├── id\n",
      "│       ├── database\n",
      "│       └── link_to_database\n",
      "└── protein_organism_id\n",
      "    └── Organism\n",
      "        ├── id\n",
      "        ├── organism_name\n",
      "        └── ncbi_taxonomy_id\n",
      "DNASequence\n",
      "├── id\n",
      "├── protein_sequence_id\n",
      "│   └── ProteinSequence\n",
      "│       ├── id\n",
      "│       ├── protein_sequence_id\n",
      "│       ├── name\n",
      "│       ├── amino_acid_sequence\n",
      "│       ├── protein_database_name\n",
      "│       │   └── ProteinDatabase\n",
      "│       │       ├── id\n",
      "│       │       ├── database\n",
      "│       │       └── link_to_database\n",
      "│       └── protein_organism_id\n",
      "│           └── Organism\n",
      "│               ├── id\n",
      "│               ├── organism_name\n",
      "│               └── ncbi_taxonomy_id\n",
      "├── dna_sequence_id\n",
      "├── nucleotide_sequence\n",
      "├── dna_database_id\n",
      "│   └── DNADatabase\n",
      "│       ├── id\n",
      "│       ├── database\n",
      "│       └── link_to_database\n",
      "└── dna_organism_id\n",
      "    └── Organism\n",
      "        ├── id\n",
      "        ├── organism_name\n",
      "        └── ncbi_taxonomy_id\n",
      "Organism\n",
      "├── id\n",
      "├── organism_name\n",
      "└── ncbi_taxonomy_id\n"
     ]
    }
   ],
   "source": [
    "#import the data base\n",
    "pyeed = DataModel.from_git(\"https://github.com/maxim945/PyEED-Fullprototype.git\")\n",
    "#visualize for each separate table\n",
    "pyeed.ProteinSequence.visualize_tree()\n",
    "pyeed.DNASequence.visualize_tree()\n",
    "pyeed.Organism.visualize_tree()"
   ]
  },
  {
   "cell_type": "code",
   "execution_count": 3,
   "id": "259b0b74",
   "metadata": {},
   "outputs": [],
   "source": [
    "#build the data base\n",
    "build_sql_database(pyeed.ProteinSequence, loc=\"./Cluster.db\")\n",
    "build_sql_database(pyeed.DNASequence, loc=\"./Cluster.db\")\n",
    "build_sql_database(pyeed.Organism, loc=\"./Cluster.db\")"
   ]
  },
  {
   "cell_type": "code",
   "execution_count": 7,
   "id": "df5ed154",
   "metadata": {},
   "outputs": [],
   "source": [
    "# query protein sequence input\n",
    "from Bio import SeqIO\n",
    "protein_seq = SeqIO.read(\"TEM-1\", \"fasta\")"
   ]
  },
  {
   "cell_type": "code",
   "execution_count": 8,
   "id": "bfe08117",
   "metadata": {},
   "outputs": [],
   "source": [
    "# run an online blast search in the NCBI database\n",
    "from Bio.Blast import NCBIWWW\n",
    "result_handle = NCBIWWW.qblast(\"tblastn\", \"nt\", protein_seq.seq,expect=0.0000001,\n",
    "                               hitlist_size=100,threshold = 550) "
   ]
  },
  {
   "cell_type": "code",
   "execution_count": 9,
   "id": "64fb057b",
   "metadata": {},
   "outputs": [],
   "source": [
    "# save the ncbi search results as an xml document\n",
    "with open(\"TEM-1nt.xml\", \"w\") as save_to:\n",
    "    save_to.write(result_handle.read())\n",
    "    result_handle.close()"
   ]
  },
  {
   "cell_type": "code",
   "execution_count": 10,
   "id": "3a892987",
   "metadata": {},
   "outputs": [
    {
     "name": "stdout",
     "output_type": "stream",
     "text": [
      "   dna_sequence_id\n",
      "0         MT387486\n",
      "1         MT387485\n",
      "2         MT387484\n",
      "3         MT387483\n",
      "4         MT387482\n",
      "..             ...\n",
      "95        MZ026128\n",
      "96        MZ026126\n",
      "97        MZ026125\n",
      "98        MZ026124\n",
      "99        MZ026123\n",
      "\n",
      "[100 rows x 1 columns]\n"
     ]
    }
   ],
   "source": [
    "import xml.etree.ElementTree as ET\n",
    "import pandas as pd\n",
    "\n",
    "# chose your headers, which columns you are interested in, in your database.\n",
    "cols = [\"dna_sequence_id\"]\n",
    "rows = []\n",
    "\n",
    "\n",
    "# PARSE XML\n",
    "tree = ET.parse('TEM-1nt.xml')\n",
    "root = tree.getroot()\n",
    "\n",
    "# search for the specific hits in the xml file\n",
    "for child in root.iter():\n",
    "\n",
    "    if child.tag == 'Hit_accession':\n",
    "        Hit_accession=child.text.strip()\n",
    "\n",
    "# append data of interest into the database        \n",
    "        rows.append({\"dna_sequence_id\": Hit_accession})\n",
    "# create a dataframe and visualize it\n",
    "dna_sequence_iddf = pd.DataFrame(rows, columns=cols)\n",
    "print(dna_sequence_iddf) "
   ]
  },
  {
   "cell_type": "code",
   "execution_count": 11,
   "id": "e0921887",
   "metadata": {},
   "outputs": [
    {
     "name": "stdout",
     "output_type": "stream",
     "text": [
      "   protein_sequence_id\n",
      "0           QJE70211.1\n",
      "1           QJE70210.1\n",
      "2           QJE70209.1\n",
      "3           QJE70208.1\n",
      "4           QJE70207.1\n",
      "..                 ...\n",
      "95          QWY17573.1\n",
      "96          QWY17571.1\n",
      "97          QWY17570.1\n",
      "98          QWY17569.1\n",
      "99          QWY17568.1\n",
      "\n",
      "[100 rows x 1 columns]\n"
     ]
    }
   ],
   "source": [
    "from Bio import Entrez\n",
    "\n",
    "cols = [\"protein_sequence_id\"]\n",
    "rows = []\n",
    "\n",
    "Entrez.email = \"youremail@example.com\" # replace with your email\n",
    "for index, row in dna_sequence_iddf.iterrows():\n",
    "    handle = Entrez.efetch(db=\"nucleotide\", id=row[\"dna_sequence_id\"], rettype=\"gb\", retmode=\"text\")\n",
    "    record = handle.read()\n",
    "    #record = SeqIO.read(handle, \"genbank\")\n",
    "\n",
    "    #print(record)\n",
    "    for line in record.splitlines():\n",
    "        if line.startswith(\"                     /protein_id=\"):\n",
    "            protein_id = line.strip().split(\"=\")[1].strip('\"')\n",
    "            #print(protein_id)\n",
    "            \n",
    "            rows.append({\"protein_sequence_id\": protein_id})\n",
    "# create a dataframe and visualize it\n",
    "protein_sequence_iddf = pd.DataFrame(rows, columns=cols)\n",
    "print(protein_sequence_iddf) "
   ]
  },
  {
   "cell_type": "code",
   "execution_count": 12,
   "id": "62abae0e",
   "metadata": {},
   "outputs": [
    {
     "name": "stdout",
     "output_type": "stream",
     "text": [
      "   protein_sequence_id_id\n",
      "0              QJE70211.1\n",
      "1              QJE70210.1\n",
      "2              QJE70209.1\n",
      "3              QJE70208.1\n",
      "4              QJE70207.1\n",
      "..                    ...\n",
      "95             QWY17573.1\n",
      "96             QWY17571.1\n",
      "97             QWY17570.1\n",
      "98             QWY17569.1\n",
      "99             QWY17568.1\n",
      "\n",
      "[100 rows x 1 columns]\n"
     ]
    }
   ],
   "source": [
    "from Bio import Entrez\n",
    "\n",
    "cols = [\"protein_sequence_id_id\"]\n",
    "rows = []\n",
    "\n",
    "Entrez.email = \"youremail@example.com\" # replace with your email\n",
    "for index, row in dna_sequence_iddf.iterrows():\n",
    "    handle = Entrez.efetch(db=\"nucleotide\", id=row[\"dna_sequence_id\"], rettype=\"gb\", retmode=\"text\")\n",
    "    record = handle.read()\n",
    "    #record = SeqIO.read(handle, \"genbank\")\n",
    "\n",
    "    #print(record)\n",
    "    for line in record.splitlines():\n",
    "        if line.startswith(\"                     /protein_id=\"):\n",
    "            protein_id = line.strip().split(\"=\")[1].strip('\"')\n",
    "            #print(protein_id)\n",
    "            \n",
    "            rows.append({\"protein_sequence_id_id\": protein_id})\n",
    "# create a dataframe and visualize it\n",
    "protein_sequence_id_iddf = pd.DataFrame(rows, columns=cols)\n",
    "print(protein_sequence_id_iddf) "
   ]
  },
  {
   "cell_type": "code",
   "execution_count": 13,
   "id": "adbafa9d",
   "metadata": {},
   "outputs": [
    {
     "name": "stdout",
     "output_type": "stream",
     "text": [
      "       organism_name\n",
      "0   Escherichia coli\n",
      "1   Escherichia coli\n",
      "2   Escherichia coli\n",
      "3   Escherichia coli\n",
      "4   Escherichia coli\n",
      "..               ...\n",
      "95  Escherichia coli\n",
      "96  Escherichia coli\n",
      "97  Escherichia coli\n",
      "98  Escherichia coli\n",
      "99  Escherichia coli\n",
      "\n",
      "[100 rows x 1 columns]\n"
     ]
    }
   ],
   "source": [
    "from Bio import Entrez\n",
    "\n",
    "cols = [\"organism_name\"]\n",
    "rows = []\n",
    "\n",
    "Entrez.email = \"youremail@example.com\" # replace with your email\n",
    "for index, row in dna_sequence_iddf.iterrows():\n",
    "    handle = Entrez.efetch(db=\"nucleotide\", id=row[\"dna_sequence_id\"], rettype=\"gb\", retmode=\"text\")\n",
    "    record = handle.read()\n",
    "    #record = SeqIO.read(handle, \"genbank\")\n",
    "\n",
    "    #print(record)\n",
    "    for line in record.splitlines():\n",
    "        if line.startswith(\"                     /organism=\"):\n",
    "            organism_id = line.strip().split(\"=\")[1].strip('\"')\n",
    "            #print(protein_id)\n",
    "            \n",
    "            rows.append({\"organism_name\": organism_id})\n",
    "# create a dataframe and visualize it\n",
    "organism_iddf = pd.DataFrame(rows, columns=cols)\n",
    "print(organism_iddf) "
   ]
  },
  {
   "cell_type": "code",
   "execution_count": 14,
   "id": "b10765b0",
   "metadata": {},
   "outputs": [
    {
     "name": "stdout",
     "output_type": "stream",
     "text": [
      "   protein_organism_id_id\n",
      "0                     562\n",
      "1                     562\n",
      "2                     562\n",
      "3                     562\n",
      "4                     562\n",
      "..                    ...\n",
      "95                    562\n",
      "96                    562\n",
      "97                    562\n",
      "98                    562\n",
      "99                    562\n",
      "\n",
      "[100 rows x 1 columns]\n"
     ]
    }
   ],
   "source": [
    "from Bio import Entrez\n",
    "\n",
    "cols = [\"protein_organism_id_id\"]\n",
    "rows = []\n",
    "\n",
    "Entrez.email = \"youremail@example.com\" # replace with your email\n",
    "for index, row in dna_sequence_iddf.iterrows():\n",
    "    handle = Entrez.efetch(db=\"nucleotide\", id=row[\"dna_sequence_id\"], rettype=\"gb\", retmode=\"text\")\n",
    "    record = handle.read()\n",
    "    #record = SeqIO.read(handle, \"genbank\")\n",
    "\n",
    "    #print(record)\n",
    "    for line in record.splitlines():\n",
    "        if line.startswith(\"                     /db_xref=\"):\n",
    "            taxon_value = line.strip().split(\"=\")[1].strip('\"')\n",
    "            #print(taxon_value)\n",
    "            if taxon_value.startswith(\"taxon:\"):\n",
    "                organism_id = taxon_value.split(\":\")[1]\n",
    "                #print(organism_id)\n",
    "            \n",
    "                rows.append({\"protein_organism_id_id\": organism_id})\n",
    "# create a dataframe and visualize it\n",
    "protein_organism_iddf = pd.DataFrame(rows, columns=cols)\n",
    "print(protein_organism_iddf) "
   ]
  },
  {
   "cell_type": "code",
   "execution_count": 15,
   "id": "f66c750b",
   "metadata": {},
   "outputs": [
    {
     "name": "stdout",
     "output_type": "stream",
     "text": [
      "   dna_organism_id_id\n",
      "0                 562\n",
      "1                 562\n",
      "2                 562\n",
      "3                 562\n",
      "4                 562\n",
      "..                ...\n",
      "95                562\n",
      "96                562\n",
      "97                562\n",
      "98                562\n",
      "99                562\n",
      "\n",
      "[100 rows x 1 columns]\n"
     ]
    }
   ],
   "source": [
    "from Bio import Entrez\n",
    "\n",
    "cols = [\"dna_organism_id_id\"]\n",
    "rows = []\n",
    "\n",
    "Entrez.email = \"youremail@example.com\" # replace with your email\n",
    "for index, row in dna_sequence_iddf.iterrows():\n",
    "    handle = Entrez.efetch(db=\"nucleotide\", id=row[\"dna_sequence_id\"], rettype=\"gb\", retmode=\"text\")\n",
    "    record = handle.read()\n",
    "    #record = SeqIO.read(handle, \"genbank\")\n",
    "\n",
    "    #print(record)\n",
    "    for line in record.splitlines():\n",
    "        if line.startswith(\"                     /db_xref=\"):\n",
    "            taxon_value = line.strip().split(\"=\")[1].strip('\"')\n",
    "            #print(taxon_value)\n",
    "            if taxon_value.startswith(\"taxon:\"):\n",
    "                organism_id = taxon_value.split(\":\")[1]\n",
    "                #print(organism_id)\n",
    "            \n",
    "                rows.append({\"dna_organism_id_id\": organism_id})\n",
    "# create a dataframe and visualize it\n",
    "dna_organism_iddf = pd.DataFrame(rows, columns=cols)\n",
    "print(dna_organism_iddf) "
   ]
  },
  {
   "cell_type": "code",
   "execution_count": 16,
   "id": "1b1d0485",
   "metadata": {},
   "outputs": [
    {
     "name": "stdout",
     "output_type": "stream",
     "text": [
      "   ncbi_taxonomy_id\n",
      "0               562\n",
      "1               562\n",
      "2               562\n",
      "3               562\n",
      "4               562\n",
      "..              ...\n",
      "95              562\n",
      "96              562\n",
      "97              562\n",
      "98              562\n",
      "99              562\n",
      "\n",
      "[100 rows x 1 columns]\n"
     ]
    }
   ],
   "source": [
    "from Bio import Entrez\n",
    "\n",
    "cols = [\"ncbi_taxonomy_id\"]\n",
    "rows = []\n",
    "\n",
    "Entrez.email = \"youremail@example.com\" # replace with your email\n",
    "for index, row in dna_sequence_iddf.iterrows():\n",
    "    handle = Entrez.efetch(db=\"nucleotide\", id=row[\"dna_sequence_id\"], rettype=\"gb\", retmode=\"text\")\n",
    "    record = handle.read()\n",
    "    #record = SeqIO.read(handle, \"genbank\")\n",
    "\n",
    "    #print(record)\n",
    "    for line in record.splitlines():\n",
    "        if line.startswith(\"                     /db_xref=\"):\n",
    "            taxon_value = line.strip().split(\"=\")[1].strip('\"')\n",
    "            #print(taxon_value)\n",
    "            if taxon_value.startswith(\"taxon:\"):\n",
    "                organism_id = taxon_value.split(\":\")[1]\n",
    "                #print(organism_id)\n",
    "            \n",
    "                rows.append({\"ncbi_taxonomy_id\": organism_id})\n",
    "# create a dataframe and visualize it\n",
    "ncbi_taxonomy_iddf = pd.DataFrame(rows, columns=cols)\n",
    "print(ncbi_taxonomy_iddf) "
   ]
  },
  {
   "cell_type": "code",
   "execution_count": 17,
   "id": "e1a8979f",
   "metadata": {},
   "outputs": [],
   "source": [
    "#protein_database_name\n",
    "\n",
    "import pandas as pd\n",
    "\n",
    "# Create a dataframe with 50 rows and 1 column\n",
    "protein_database_namedf = pd.DataFrame([\"GeneBank\"]*100, columns=[\"protein_database_name_id\"])"
   ]
  },
  {
   "cell_type": "code",
   "execution_count": 18,
   "id": "1f2de59a",
   "metadata": {},
   "outputs": [],
   "source": [
    "#protein_database_name\n",
    "\n",
    "import pandas as pd\n",
    "\n",
    "# Create a dataframe with 50 rows and 1 column\n",
    "dna_database_namedf = pd.DataFrame([\"GeneBank\"]*100, columns=[\"dna_database_id_id\"])"
   ]
  },
  {
   "cell_type": "code",
   "execution_count": 19,
   "id": "7a77cbcc",
   "metadata": {},
   "outputs": [],
   "source": [
    "#protein_database_name\n",
    "\n",
    "import pandas as pd\n",
    "\n",
    "# Create a dataframe with 50 rows and 1 column\n",
    "namedf = pd.DataFrame([\"TEM-1\"]*100, columns=[\"name\"])"
   ]
  },
  {
   "cell_type": "code",
   "execution_count": 20,
   "id": "5a691b2e",
   "metadata": {},
   "outputs": [
    {
     "name": "stdout",
     "output_type": "stream",
     "text": [
      "                                  amino_acid_sequence\n",
      "0   HPETLVKVKDAEDQLGARVGYIELDLNSGKILESFRPEERFPMMST...\n",
      "1   HPETLVKVKDAEDQLGARVGYIELDLNSGKILESFRPEERFPMMST...\n",
      "2   HPETLVKVKDAEDQLGARVGYIELDLNSGKILESFRPEERFPMMST...\n",
      "3   HPETLVKVKDAEDQLGARVGYIELDLNSGKILESFRPEERFPMMST...\n",
      "4   HPETLVKVKDAEDQLGARVGYIELDLNSGKILESFRPEERFPMMST...\n",
      "..                                                ...\n",
      "95  HPETLVKVKDAEDQLGARVGYIELDLNSGKILESFRPEERFPMMST...\n",
      "96  HPETLVKVKDAEDQLGARVGYIELDLNSGKILESFRPEERFPMMST...\n",
      "97  HPETLVKVKDAEDQLGARVGYIELDLNSGKILESFRPEERFPMMST...\n",
      "98  HPETLVKVKDAEDQLGARVGYIELDLNSGKILESFRPEERFPMMST...\n",
      "99  HPETLVKVKDAEDQLGARVGYIELDLNSGKILESFRPEERFPMMST...\n",
      "\n",
      "[100 rows x 1 columns]\n"
     ]
    }
   ],
   "source": [
    "import xml.etree.ElementTree as ET\n",
    "import pandas as pd\n",
    "\n",
    "# chose your headers, which columns you are interested in, in your database.\n",
    "cols = [\"amino_acid_sequence\"]\n",
    "rows = []\n",
    "\n",
    "\n",
    "# PARSE XML\n",
    "tree = ET.parse('TEM-1nt.xml')\n",
    "root = tree.getroot()\n",
    "\n",
    "# search for the specific hits in the xml file\n",
    "for child in root.iter():\n",
    "\n",
    "    if child.tag == 'Hsp_hseq':\n",
    "        Hsp_hseq=child.text.strip()\n",
    "\n",
    "# append data of interest into the database        \n",
    "        rows.append({\"amino_acid_sequence\": Hsp_hseq})\n",
    "# create a dataframe and visualize it\n",
    "amino_acid_sequencedf = pd.DataFrame(rows, columns=cols)\n",
    "print(amino_acid_sequencedf) "
   ]
  },
  {
   "cell_type": "code",
   "execution_count": 21,
   "id": "89eea0f4",
   "metadata": {},
   "outputs": [
    {
     "name": "stdout",
     "output_type": "stream",
     "text": [
      "                                  nucleotide_sequence\n",
      "0   ATGAGTATTCAACATTTTCGTGTCGCCCTTATTCCCTTTTTTGCGG...\n",
      "1   ATGAGTATTCAACATTTTCGTGTCGCCCTTATTCCCTTTTTTGCGG...\n",
      "2   ATGAGTATTCAACATTTTCGTGTCGCCCTTATTCCCTTTTTTGCGG...\n",
      "3   ATGAGTATTCAACATTTTCGTGTCGCCCTTATTCCCTTTTTTGCGG...\n",
      "4   ATGAGTATTCAACATTTTCGTGTCGCCCTTATTCCCTTTTTTGCGG...\n",
      "..                                                ...\n",
      "95  ATGAGTATTCAACATTTTCGTGTCGCCCTTATTCCCTTTTTTGCGG...\n",
      "96  ATGAGTATTCAACATTTTCGTGTCGCCCTTATTCCCTTTTTTGCGG...\n",
      "97  ATGAGTATTCAACATTTTCGTGTCGCCCTTATTCCCTTTTTTGCGG...\n",
      "98  ATGAGTATTCAACATTTTCGTGTCGCCCTTATTCCCTTTTTTGCGG...\n",
      "99  ATGAGTATTCAACATTTTCGTGTCGCCCTTATTCCCTTTTTTGCGG...\n",
      "\n",
      "[100 rows x 1 columns]\n"
     ]
    }
   ],
   "source": [
    "# convert the xml to a dataframe\n",
    "\n",
    "import xml.etree.ElementTree as ET\n",
    "import pandas as pd\n",
    "from Bio import Entrez\n",
    "\n",
    "# chose your headers, which columns you are interested in, in your database.\n",
    "cols = [\"nucleotide_sequence\"]\n",
    "rows = []\n",
    "\n",
    "\n",
    "# PARSE XML\n",
    "tree = ET.parse('TEM-1nt.xml')\n",
    "root = tree.getroot()\n",
    "\n",
    "# search for the specific hits in the xml file\n",
    "for child in root.iter():\n",
    "    if child.tag == 'Hit_accession':\n",
    "        Hit_accession=child.text.strip()\n",
    "        Entrez.email = \"maximschwarzberg@gmail.com\" # Always tell NCBI who you are\n",
    "        handle = Entrez.efetch(db=\"nucleotide\", id=Hit_accession, rettype=\"fasta\")\n",
    "        dna_sequence = handle.read()\n",
    "        dna_sequence = dna_sequence.split('\\n')[1:]\n",
    "        dna_sequence = ''.join(dna_sequence)\n",
    "        #print(dna_sequence)\n",
    "        rows.append({\"nucleotide_sequence\": dna_sequence})\n",
    "# create a dataframe and visualize it\n",
    "nucleotide_sequencedf = pd.DataFrame(rows, columns=cols)\n",
    "print(nucleotide_sequencedf) \n",
    "        #with open(\"accessionnt.txt\", \"a\") as f:\n",
    "            #print(dna_sequence, file=f)\n",
    "            \n"
   ]
  },
  {
   "cell_type": "code",
   "execution_count": 22,
   "id": "d065aa1c",
   "metadata": {},
   "outputs": [],
   "source": [
    "import sqlite3\n",
    "\n",
    "# Connecting to the database\n",
    "connection = sqlite3.connect('Cluster.db')\n",
    "\n",
    "# inserting all dataframes to a one merged dataframe on the same index\n",
    "merged_df = pd.concat([protein_sequence_iddf, namedf, amino_acid_sequencedf,\n",
    "                       protein_database_namedf,protein_organism_iddf], axis=1)\n",
    "#print(merged_df)\n",
    "# Insert the dataframe into the database ProteinSequence table\n",
    "merged_df.to_sql('ProteinSequence', connection, if_exists='append', index=False)\n",
    "\n",
    "# Committing the changes\n",
    "connection.commit()\n",
    " \n",
    "# closing the database connection\n",
    "connection.close()"
   ]
  },
  {
   "cell_type": "code",
   "execution_count": 23,
   "id": "3c246165",
   "metadata": {},
   "outputs": [],
   "source": [
    "import sqlite3\n",
    "\n",
    "# Connecting to the database\n",
    "connection = sqlite3.connect('Cluster.db')\n",
    "\n",
    "# inserting all dataframes to a one merged dataframe on the same index\n",
    "merged_df = pd.concat([protein_sequence_id_iddf, dna_sequence_iddf, nucleotide_sequencedf,\n",
    "                       dna_database_namedf,dna_organism_iddf], axis=1)\n",
    "#print(merged_df)\n",
    "# Insert the dataframe into the database ProteinSequence table\n",
    "merged_df.to_sql('DNASequence', connection, if_exists='append', index=False)\n",
    "\n",
    "# Committing the changes\n",
    "connection.commit()\n",
    " \n",
    "# closing the database connection\n",
    "connection.close()"
   ]
  },
  {
   "cell_type": "code",
   "execution_count": 24,
   "id": "3999c937",
   "metadata": {},
   "outputs": [],
   "source": [
    "import sqlite3\n",
    "\n",
    "# Connecting to the database\n",
    "connection = sqlite3.connect('Cluster.db')\n",
    "\n",
    "# inserting all dataframes to a one merged dataframe on the same index\n",
    "merged_df = pd.concat([organism_iddf, ncbi_taxonomy_iddf], axis=1)\n",
    "#print(merged_df)\n",
    "# Insert the dataframe into the database ProteinSequence table\n",
    "merged_df.to_sql('Organism', connection, if_exists='append', index=False)\n",
    "\n",
    "# Committing the changes\n",
    "connection.commit()\n",
    " \n",
    "# closing the database connection\n",
    "connection.close()"
   ]
  },
  {
   "cell_type": "code",
   "execution_count": null,
   "id": "eefc11db",
   "metadata": {},
   "outputs": [],
   "source": []
  }
 ],
 "metadata": {
  "kernelspec": {
   "display_name": "Python 3",
   "language": "python",
   "name": "python3"
  },
  "language_info": {
   "codemirror_mode": {
    "name": "ipython",
    "version": 3
   },
   "file_extension": ".py",
   "mimetype": "text/x-python",
   "name": "python",
   "nbconvert_exporter": "python",
   "pygments_lexer": "ipython3",
   "version": "3.8.10"
  }
 },
 "nbformat": 4,
 "nbformat_minor": 5
}
