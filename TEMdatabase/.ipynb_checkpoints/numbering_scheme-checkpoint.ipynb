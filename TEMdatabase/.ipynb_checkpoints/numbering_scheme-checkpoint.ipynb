{
 "cells": [
  {
   "cell_type": "code",
   "execution_count": 9,
   "id": "59cc546e",
   "metadata": {},
   "outputs": [
    {
     "name": "stdout",
     "output_type": "stream",
     "text": [
      "/absolute/path/to/Documents/Numbering_Scheme/RefSeq/seq_ref_tem-1.fasta\n"
     ]
    }
   ],
   "source": [
    "seq_file_path = \"/absolute/path/to/Documents/Numbering_Scheme/RefSeq/seq_ref_tem-1.fasta\"\n",
    "print(seq_file_path)"
   ]
  },
  {
   "cell_type": "code",
   "execution_count": 35,
   "id": "345c67a6",
   "metadata": {},
   "outputs": [
    {
     "name": "stdout",
     "output_type": "stream",
     "text": [
      "# hmmsearch :: search profile(s) against a sequence database\n",
      "# HMMER 3.3 (Nov 2019); http://hmmer.org/\n",
      "# Copyright (C) 2019 Howard Hughes Medical Institute.\n",
      "# Freely distributed under the BSD open source license.\n",
      "# - - - - - - - - - - - - - - - - - - - - - - - - - - - - - - - - - - - -\n",
      "# query HMM file:                  ./Documents/HMM/Profile_HMM.hmm\n",
      "# target sequence database:        ./Documents/Numbering_Scheme/RefSeq/seq_ref_tem_1.fasta\n",
      "# output directed to file:         ./Documents/Numbering_Scheme/numbering/TEM-1_numbering.txt\n",
      "# sequence reporting threshold:    E-value <= 0.01\n",
      "# domain reporting threshold:      E-value <= 0.01\n",
      "# - - - - - - - - - - - - - - - - - - - - - - - - - - - - - - - - - - - -\n",
      "\n",
      "Query:       Profile_HMM  [M=286]\n",
      "Scores for complete sequences (score includes all domains):\n",
      "   --- full sequence ---   --- best 1 domain ---    -#dom-\n",
      "    E-value  score  bias    E-value  score  bias    exp  N  Sequence                                             Description\n",
      "    ------- ------ -----    ------- ------ -----   ---- --  --------                                             -----------\n",
      "   1.5e-191  620.9   0.1   1.7e-191  620.7   0.1    1.0  1  sid|842|pid|818|hfid|1|sfid|1|gi|46015634|taxid|562|  \n",
      "\n",
      "\n",
      "Domain annotation for each sequence (and alignments):\n",
      ">> sid|842|pid|818|hfid|1|sfid|1|gi|46015634|taxid|562|  \n",
      "   #    score  bias  c-Evalue  i-Evalue hmmfrom  hmm to    alifrom  ali to    envfrom  env to     acc\n",
      " ---   ------ ----- --------- --------- ------- -------    ------- -------    ------- -------    ----\n",
      "   1 !  620.7   0.1  1.7e-191  1.7e-191      24     286 .]       1     263 []       1     263 [] 1.00\n",
      "\n",
      "  Alignments for each domain:\n",
      "  == domain 1  score: 620.7 bits;  conditional E-value: 1.7e-191\n",
      "                                           Profile_HMM  24 hpetlvkvkdaedklgarvgyieldlnsgkilesfrpeerfpmlstfkvllcgavls 80 \n",
      "                                                           hpetlvkvkdaed+lgarvgyieldlnsgkilesfrpeerfpm+stfkvllcgavls\n",
      "  sid|842|pid|818|hfid|1|sfid|1|gi|46015634|taxid|562|   1 HPETLVKVKDAEDQLGARVGYIELDLNSGKILESFRPEERFPMMSTFKVLLCGAVLS 57 \n",
      "                                                           9******************************************************** PP\n",
      "\n",
      "                                           Profile_HMM  81 rvdagqeqlgrrihysqndlveyspvtekhltdgmtvrelcsaaitmsdntaanlll 137\n",
      "                                                           rvdagqeqlgrrihysqndlveyspvtekhltdgmtvrelcsaaitmsdntaanlll\n",
      "  sid|842|pid|818|hfid|1|sfid|1|gi|46015634|taxid|562|  58 RVDAGQEQLGRRIHYSQNDLVEYSPVTEKHLTDGMTVRELCSAAITMSDNTAANLLL 114\n",
      "                                                           ********************************************************* PP\n",
      "\n",
      "                                           Profile_HMM 138 ttiggpkeltaflhnmgdhvtrldrwepelneaipnderdttmpaamattlrklltg 194\n",
      "                                                           ttiggpkeltaflhnmgdhvtrldrwepelneaipnderdttmpaamattlrklltg\n",
      "  sid|842|pid|818|hfid|1|sfid|1|gi|46015634|taxid|562| 115 TTIGGPKELTAFLHNMGDHVTRLDRWEPELNEAIPNDERDTTMPAAMATTLRKLLTG 171\n",
      "                                                           ********************************************************* PP\n",
      "\n",
      "                                           Profile_HMM 195 elltlasrqqlidwmeadkvagpllrsalpagwfiadksgagergsrgiiaalgpdg 251\n",
      "                                                           elltlasrqqlidwmeadkvagpllrsalpagwfiadksgagergsrgiiaalgpdg\n",
      "  sid|842|pid|818|hfid|1|sfid|1|gi|46015634|taxid|562| 172 ELLTLASRQQLIDWMEADKVAGPLLRSALPAGWFIADKSGAGERGSRGIIAALGPDG 228\n",
      "                                                           ********************************************************* PP\n",
      "\n",
      "                                           Profile_HMM 252 kpsrivviyttgsqatmdernrqiaeigaslikhw 286\n",
      "                                                           kpsrivviyttgsqatmdernrqiaeigaslikhw\n",
      "  sid|842|pid|818|hfid|1|sfid|1|gi|46015634|taxid|562| 229 KPSRIVVIYTTGSQATMDERNRQIAEIGASLIKHW 263\n",
      "                                                           *********************************** PP\n",
      "\n",
      "\n",
      "\n",
      "Internal pipeline statistics summary:\n",
      "-------------------------------------\n",
      "Query model(s):                            1  (286 nodes)\n",
      "Target sequences:                          1  (263 residues searched)\n",
      "Passed MSV filter:                         1  (1); expected 0.0 (0.02)\n",
      "Passed bias filter:                        1  (1); expected 0.0 (0.02)\n",
      "Passed Vit filter:                         1  (1); expected 0.0 (0.001)\n",
      "Passed Fwd filter:                         1  (1); expected 0.0 (1e-05)\n",
      "Initial search space (Z):                  1  [actual number of targets]\n",
      "Domain search space  (domZ):               1  [number of targets reported over threshold]\n",
      "# CPU time: 0.00u 0.01s 00:00:00.01 Elapsed: 00:00:00.03\n",
      "# Mc/sec: 2.34\n",
      "//\n",
      "[ok]\n",
      "\n"
     ]
    }
   ],
   "source": [
    "import subprocess\n",
    "\n",
    "# Run HMMER to search for hits in your sequence\n",
    "hmmsearch_cmd = ['hmmsearch', '-E', '0.01', '--domE', '0.01', \n",
    "                 '-o', './Documents/Numbering_Scheme/numbering/TEM-1_numbering.txt',\n",
    "                 './Documents/HMM/Profile_HMM.hmm',\n",
    "                 './Documents/Numbering_Scheme/RefSeq/seq_ref_tem_1.fasta']\n",
    "subprocess.run(hmmsearch_cmd, check=True)\n",
    "\n",
    "# Read in the output file and print it out\n",
    "with open('./Documents/Numbering_Scheme/numbering/TEM-1_numbering.txt', 'r') as f:\n",
    "    print(f.read())"
   ]
  },
  {
   "cell_type": "code",
   "execution_count": 39,
   "id": "7ad42e31",
   "metadata": {},
   "outputs": [
    {
     "name": "stdout",
     "output_type": "stream",
     "text": [
      "     amino_acid_number Profile_HMM\n",
      "0                    1           H\n",
      "1                    2           P\n",
      "2                    3           E\n",
      "3                    4           T\n",
      "4                    5           L\n",
      "..                 ...         ...\n",
      "258                259           L\n",
      "259                260           I\n",
      "260                261           K\n",
      "261                262           H\n",
      "262                263           W\n",
      "\n",
      "[263 rows x 2 columns]\n"
     ]
    }
   ],
   "source": [
    "import pandas as pd\n",
    "import re\n",
    "\n",
    "# Read the file and extract HMM profile information\n",
    "with open('./Documents/Numbering_Scheme/numbering/TEM-1_numbering.txt', 'r') as file:\n",
    "    profile = ''.join([line.strip() for line in file if not line.startswith('#')])\n",
    "\n",
    "pattern = r\"Profile_HMM\\s+(\\d+)\\s+([\\w\\.]+)\\s+(\\d+)\"\n",
    "matches = re.findall(pattern, profile)\n",
    "\n",
    "# Concatenate HMM profile characters and create a dataframe with amino acid numbers\n",
    "full_sequence_HMM = ''.join([match[1] for match in matches]).replace('.', '').upper()\n",
    "amino_acid_number = pd.DataFrame({'amino_acid_number': range(1, len(full_sequence_HMM) + 1)})\n",
    "\n",
    "# Add the HMM profile column to the dataframe\n",
    "amino_acid_number['Profile_HMM'] = list(full_sequence_HMM)\n",
    "\n",
    "# Save the DataFrame as a CSV file\n",
    "amino_acid_number.to_csv('./Documents/Numbering_Scheme/numbering/amino_acid_number.csv', index=False)\n",
    "\n",
    "# Print the resulting DataFrame\n",
    "print(amino_acid_number)\n"
   ]
  },
  {
   "cell_type": "code",
   "execution_count": null,
   "id": "5d042539",
   "metadata": {},
   "outputs": [],
   "source": []
  },
  {
   "cell_type": "code",
   "execution_count": null,
   "id": "78d6d3a9",
   "metadata": {},
   "outputs": [],
   "source": [
    "import tempfile\n",
    "import subprocess\n",
    "\n",
    "for index, row in reversed_df.iterrows():\n",
    "    # create a temporary file for the sequence in FASTA format\n",
    "    with tempfile.NamedTemporaryFile(mode='w', delete=False) as tmpfile:\n",
    "        tmpfile.write(f'>seq{index}\\n{row[\"nucleotide_sequence\"]}\\n')\n",
    "        tmpfile.flush()\n",
    "\n",
    "        # run hmmsearch on the temporary file\n",
    "        hmmsearch_cmd = ['hmmsearch', '-E', '0.01', '--domE', '0.01', '-o',f'TEM-sequences_{index}.txt', 'HMM_profile.hmm', tmpfile.name]\n",
    "        result = subprocess.run(hmmsearch_cmd, capture_output=True, check=True)\n",
    "        print(result.stdout.decode())\n",
    "\n",
    "    # print the output file\n",
    "    # print the output file\n",
    "    with open(f'TEM-sequences_{index}.txt', 'r') as f:\n",
    "        print(f.read())"
   ]
  }
 ],
 "metadata": {
  "kernelspec": {
   "display_name": "Python 3",
   "language": "python",
   "name": "python3"
  },
  "language_info": {
   "codemirror_mode": {
    "name": "ipython",
    "version": 3
   },
   "file_extension": ".py",
   "mimetype": "text/x-python",
   "name": "python",
   "nbconvert_exporter": "python",
   "pygments_lexer": "ipython3",
   "version": "3.8.10"
  }
 },
 "nbformat": 4,
 "nbformat_minor": 5
}
